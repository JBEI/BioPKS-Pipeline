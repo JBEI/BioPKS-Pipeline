{
 "cells": [
  {
   "metadata": {},
   "cell_type": "markdown",
   "source": "# BioPKS Pipeline Tutorial 01 - the basics",
   "id": "5fab4f055bc714e5"
  },
  {
   "metadata": {},
   "cell_type": "markdown",
   "source": "In this tutorial, we go over and explain many of the settings/ parameters that users can tune in order to run BioPKS Pipeline. ",
   "id": "de281e37f90d868a"
  },
  {
   "metadata": {
    "ExecuteTime": {
     "end_time": "2025-04-07T16:40:06.397505Z",
     "start_time": "2025-04-07T16:39:59.626933Z"
    }
   },
   "cell_type": "code",
   "source": [
    "from biopks_pipeline import biopks_pipeline\n",
    "from DORA_XGB import DORA_XGB\n",
    "import warnings\n",
    "warnings.simplefilter('ignore')\n",
    "\n",
    "import os\n",
    "os.chdir('../../BioPKS-Pipeline/notebooks')\n",
    "print(\"Now working in:\", os.getcwd())"
   ],
   "id": "4530554f4f639ecd",
   "outputs": [
    {
     "name": "stderr",
     "output_type": "stream",
     "text": [
      "[11:40:04] WARNING: not removing hydrogen atom without neighbors\n",
      "[11:40:04] WARNING: not removing hydrogen atom without neighbors\n",
      "[11:40:04] WARNING: not removing hydrogen atom without neighbors\n",
      "[11:40:04] WARNING: not removing hydrogen atom without neighbors\n",
      "[11:40:05] WARNING: not removing hydrogen atom without neighbors\n"
     ]
    },
    {
     "name": "stdout",
     "output_type": "stream",
     "text": [
      "Now working in: /Users/yashchainani96/PycharmProjects/BioPKS-Pipeline/notebooks\n"
     ]
    }
   ],
   "execution_count": 1
  },
  {
   "metadata": {},
   "cell_type": "markdown",
   "source": [
    "Users need to specify the following input parameters when attempting to synthesize a molecule *in silico* with BioPKS Pipeline:\n",
    "\n",
    "`pathway sequence`: this can be either of the lists `['pks']` or `['pks', 'bio']` and it determines if only PKSs should be used to synthesize a target molecule, or if post-PKS modifications should be allowed as well. The goal of BioPKS Pipeline is to expand the chemical space accessible by merging PKSs and regular, monofunctional enzymes in biology, so it is likely that using both types of enzymes will result in a higher chance of reaching one's target chemical than using either alone.\n",
    "\n",
    "`target_smiles`: the SMILES string of the desired target chemical. Regardless of whether the input SMILES string contains stereochemical information about a molecule or not, BioPKS Pipeline will automatically convert the input SMILES to its canonical form and remove any chirality. This is because in this work, we have focused only on getting the correct 2D structure of a target molecule rather than its 3D structure. We anticipate future releases of our tool to be able to achieve the correct 3D structure of a target.\n",
    "\n",
    "`target_name`: the name of the input target. This will be used to save BioPKS Pipeline's results in the folder `data/results_logs`.\n",
    "\n",
    "`pks_release_mechanism`: the offloading reaction with which to release the PKS product from RetroTide. Users have two options here - they can either select between `thiolysis` or `cyclization`. A `thiolysis` reaction will form a carboxylic acid while a `cyclization` reaction will form a lactone. There are several other termination reactions catalyzed by uniqe thioesterase (TE) domains but we've only included `thiolysis` and `cyclization` here since these are the most common anyway."
   ],
   "id": "537fb77cc213b4c7"
  },
  {
   "metadata": {
    "ExecuteTime": {
     "end_time": "2025-04-07T16:40:09.518359Z",
     "start_time": "2025-04-07T16:40:09.514739Z"
    }
   },
   "cell_type": "code",
   "source": [
    "pathway_sequence = ['pks','bio']  # choose between ['pks'] or ['pks','bio']\n",
    "target_smiles = 'C(C1C(C(C(C(=O)O1)O)O)O)O'\n",
    "target_name = 'gluconic_lactone'\n",
    "pks_release_mechanism = 'thiolysis' # choose from 'cyclization' or 'thiolysis'"
   ],
   "id": "84e2702843c1625a",
   "outputs": [],
   "execution_count": 2
  },
  {
   "metadata": {},
   "cell_type": "markdown",
   "source": [
    "In addition to the parameters above, users can also specify additional parameters via a config file. The config file that we will be using for this tutorial is in `notebooks/input_config_file_tutorial_1.json`. Following are the parameters that users can tune within the config file:\n",
    "\n",
    "`pks_starters_filepath`: list of PKS starter units available to RetroTide (default: `../biopks_pipeline/retrotide/data/starters.smi`).\n",
    "\n",
    "`pks_extenders_filepath`: list of PKS extender units available to RetroTide (default: `\"../biopks_pipeline/retrotide/data/extenders.smi\"`).\n",
    "\n",
    "`pks_starters`: list of PKS **starter units** to run BioPKS Pipeline with. This is the list that users can edit to control which starting acyl-CoA derivatives can be used when designing synthesis pathways for small-molecules. In our manuscript, for non-aromatic molecules, we constrained the list of starter units to only malonyl-CoA (\"mal\"), methylmalonyl-CoA (\"mmal\"), methoxymalonyl-CoA (\"mxmal\"), hydroxymalonyl-CoA (\"hmal\"), and allylmalonyl-CoA (\"allylmal\"). This list of starter units can be written as: `[\"mal\", \"mmal\", \"mxmal\", \"hmal\", \"allylmal\"]`. For non-aromatic molecules, however, we allowed all starter units to be used by BioPKS Pipeline. This can be enabled by simply writing \"all\" for this field in `pks_starters`. For this tutorial, we will use the 5 malonyl-CoA type starter units mentioned above.\n",
    "\n",
    "`pks_extenders`: similar to above, this is the list of PKS **extender units** to run BioPKS Pipeline with. This is the list that users can edit to control which extender acyl-CoA derivatives can be used when designing synthesis pathways for small-molecules. In our manuscript, for non-aromatic molecules, we constrained the list of extender units to only malonyl-CoA (\"mal\"), methylmalonyl-CoA (\"mmal\"), methoxymalonyl-CoA (\"mxmal\"), hydroxymalonyl-CoA (\"hmal\"), and allylmalonyl-CoA (\"allylmal\"). This list of extender units can be written as: `[\"mal\", \"mmal\", \"mxmal\", \"hmal\", \"allylmal\"]`. For non-aromatic molecules, however, we allowed all starter units to be used by BioPKS Pipeline. This can be enabled by simply writing \"all\" for this field in `pks_starters`. For this tutorial, we will use the 5 malonyl-CoA type extender units mentioned above.\n",
    "\n",
    "`pks_similarity_metric`: chemical similarity metric to use for ranking RetroTide's PKS products. We recommend using `mcs_without_stereo`, which prioritizes the maximum common substructure (MCS) between an intermediate PKS molecule and the final, target product. In performing this comparison, we ignore any stereochemical considerations. Other options include `atompairs` and `atomatompath`. Users are also welcome to add their own chemical similarity metrics of interest in `biopks_pipeline/retrotide/retrotide.py`.\n",
    "\n",
    "`non_pks_similarity_metric`: chemical similarity metric to use for ranking DORAnet's post-PKS products. We also recommend using `mcs_without_stereo` here. This metric enables BioPKS Pipeline to retrieve the most chemically similar post-PKS product with respect to the target chemical in the event that the final target is not reached.\n",
    "\n",
    "`non_pks_steps`: number of non-PKS steps to modify PKS products for.\n",
    "\n",
    "`non_pks_cores`: number of computing cores used by DORAnet when searching for pathways after reaction networks have been generated. \n",
    "\n",
    "`bio_max_atoms`: the maximum number of atoms that are allowed by DORAnet. This is a filter and users can specify upper-bounds for the number of each atom of each type that should be allowed. For instance, to limit both the number of carbon atoms and the number of nitrogen atoms, users can enter a dictionary such as: {\"C\":\"6\", \"N\":\"2\"}. To not use this filter at all, however, users can simply specify `\"None\"`."
   ],
   "id": "a98d9eaf5f9010c"
  },
  {
   "metadata": {
    "ExecuteTime": {
     "end_time": "2025-04-07T16:40:14.461122Z",
     "start_time": "2025-04-07T16:40:14.454787Z"
    }
   },
   "cell_type": "code",
   "source": "config_filepath = os.path.join('input_config_file_tutorial_1.json')",
   "id": "233cf32a01bee781",
   "outputs": [],
   "execution_count": 3
  },
  {
   "metadata": {},
   "cell_type": "markdown",
   "source": "Here, we initialize DORA-XGB, a supervised learning classifier that can help predict the feasibility of reactions catalyzed by regular, monofunctional enzymes in Biology. After performing post-PKS modifications, DORAnet ranks any post-PKS pathways found between the RetroTide product and the final target molecule using our previously published DORA-XGB model. More details of our DORA-XGB model can be found in our previous publication: https://pubs.rsc.org/en/content/articlehtml/2024/me/d4me00118d ",
   "id": "9010b5994d80fc47"
  },
  {
   "metadata": {
    "ExecuteTime": {
     "end_time": "2025-04-07T16:40:16.321836Z",
     "start_time": "2025-04-07T16:40:15.945187Z"
    }
   },
   "cell_type": "code",
   "source": [
    "post_pks_rxn_model = DORA_XGB.feasibility_classifier(cofactor_positioning = 'add_concat',\n",
    "                                                     model_type = \"spare\")"
   ],
   "id": "fd19206464efbcb3",
   "outputs": [],
   "execution_count": 4
  },
  {
   "metadata": {},
   "cell_type": "markdown",
   "source": "Now, with all the parameters defined, we can initialize an object of the `biopks_pipeline` class: ",
   "id": "c9e20fc5b8cc89d9"
  },
  {
   "metadata": {
    "ExecuteTime": {
     "end_time": "2025-04-07T16:40:26.249607Z",
     "start_time": "2025-04-07T16:40:24.078415Z"
    }
   },
   "cell_type": "code",
   "source": [
    "biopks_pipeline_object = biopks_pipeline.biopks_pipeline(\n",
    "                                             pathway_sequence = pathway_sequence,\n",
    "                                             target_smiles = target_smiles,\n",
    "                                             target_name = target_name,\n",
    "                                             feasibility_classifier = post_pks_rxn_model,\n",
    "                                             pks_release_mechanism = pks_release_mechanism,\n",
    "                                             config_filepath = config_filepath)"
   ],
   "id": "fbfddd1196b76848",
   "outputs": [
    {
     "name": "stdout",
     "output_type": "stream",
     "text": [
      "\n",
      "Extender units successfully chosen for polyketide synthases\n",
      "\n",
      "Starter units successfully chosen for polyketide synthases\n"
     ]
    }
   ],
   "execution_count": 5
  },
  {
   "metadata": {},
   "cell_type": "markdown",
   "source": "Finally, we can begin a combined PKS and post-PKS synthesis with BioPKS Pipeline using the method `run_combined_synthesis`. This method accepts `max_designs` as an argument and this corresponds to the number of alternate PKS designs and consequently, the number of **unique** alternate PKS products that will be expanded upon in order to reach the final, downstream target.",
   "id": "9c8e19678afe070b"
  },
  {
   "metadata": {
    "ExecuteTime": {
     "end_time": "2025-04-07T16:43:06.926169Z",
     "start_time": "2025-04-07T16:40:41.549827Z"
    }
   },
   "cell_type": "code",
   "source": [
    "### ----- Start synthesis -----\n",
    "if __name__ == \"__main__\":\n",
    "    biopks_pipeline_object.run_combined_synthesis(max_designs = 4)\n",
    "    biopks_pipeline_object.save_results_logs()"
   ],
   "id": "d5cfbe7b80925403",
   "outputs": [
    {
     "name": "stdout",
     "output_type": "stream",
     "text": [
      "\n",
      "Starting PKS synthesis with RetroTide\n",
      "---------------------------------------------\n",
      "computing module 1\n",
      "   testing 120 designs\n",
      "   best score is 0.6666666666666666\n",
      "computing module 2\n",
      "   testing 600 designs\n",
      "   best score is 0.9166666666666666\n",
      "computing module 3\n",
      "   testing 600 designs\n",
      "   best score is 0.8571428571428571\n",
      "\n",
      "Best PKS design: [[\"AT{'substrate': 'Hydroxymalonyl-CoA'}\", 'loading: True'], [\"AT{'substrate': 'Hydroxymalonyl-CoA'}\", \"KR{'type': 'B1'}\", 'loading: False'], [\"AT{'substrate': 'Hydroxymalonyl-CoA'}\", \"KR{'type': 'B1'}\", 'loading: False']]\n",
      "\n",
      "Closest final product is: O=C(O)[C@H](O)[C@H](O)[C@H](O)[C@H](O)CO\n",
      "\n",
      "Finished PKS synthesis: closest product to the target using the top PKS design of [[\"AT{'substrate': 'Hydroxymalonyl-CoA'}\", 'loading: True'], [\"AT{'substrate': 'Hydroxymalonyl-CoA'}\", \"KR{'type': 'B1'}\", 'loading: False'], [\"AT{'substrate': 'Hydroxymalonyl-CoA'}\", \"KR{'type': 'B1'}\", 'loading: False']] is O=C(O)[C@H](O)[C@H](O)[C@H](O)[C@H](O)CO.\n",
      "\n",
      "Moving onto non-PKS modifications...\n",
      "Job name: gluconic_lactone_PKS0_BIO1\n",
      "Job type: enzymatic network expansion forward\n",
      "Job started on: 2025-04-07 11:40:43.001418\n",
      "Number of generations: 1\n",
      "Number of operators loaded: 3571\n",
      "Number of molecules before expantion (including cofactors): 42\n",
      "Number of molecules after expantion (including cofactors): 374\n",
      "Number of reactions: 412\n",
      "Time used for network generation: 2.14 minutes\n",
      "\n",
      "Job name: gluconic_lactone_PKS0_BIO1\n",
      "Job type: post-processing pretreat networks\n",
      "Job started on: 2025-04-07 11:42:55.172594\n",
      "Loading networks, it may take a while if loading large networks from file\n",
      "Loading network 1 from memory\n",
      "Number of reations in network 1: 412\n",
      "Networks loaded, now generating reaction strings\n",
      "Reaction strings generation finished\n",
      "Removing unconnected reactions\n",
      "Unconnected reactions removed\n",
      "Total number of reactions after pretreatment: 408\n",
      "Time used for network pretreatment: 0.00 minutes\n",
      "\n",
      "Job name: gluconic_lactone_PKS0_BIO1\n",
      "Job type: pathway search\n",
      "Job started on: 2025-04-07 11:42:55.221309\n",
      "Pathway finder started, total number of reactions in network 408\n",
      "Searching for pathways.\n",
      "If it is taking too long, try adjusting pruning parameters\n",
      "Pathway search finished, removing loops if there's any.\n",
      "Time used for pathway search: 0.00 minutes\n",
      "1 pathways found!\n",
      "1 reactions found in all pathways\n",
      "Min number of reactions in a pathway: 1\n",
      "Max number of reactions in a pathway: 1\n",
      "Pruning parameters for this search:\n",
      "search_depth: 1\n",
      "max_num_rxns: 1\n",
      "min_rxn_atom_economy: 0\n",
      "\n",
      "Job name: gluconic_lactone_PKS0_BIO1\n",
      "Job type: pathway ranking\n",
      "Job started on: 2025-04-07 11:42:55.312164\n",
      "Start ranking pathways. Number of pathways after sanitization: 1\n",
      "Reaction thermodynamics ranking working\n",
      "Reaction thermodynamics ranking finished\n",
      "Atom economy ranking working\n",
      "Min_eco 1\n",
      "Max_eco 1.0\n",
      "None_eco 0\n",
      "Atom_economy ranking finished\n",
      "Number of steps ranking working\n",
      "Number of steps ranking finished\n",
      "By product_number ranking working\n",
      "You can adjust multi-processing number to speed it up\n"
     ]
    },
    {
     "name": "stderr",
     "output_type": "stream",
     "text": [
      "[11:42:57] WARNING: not removing hydrogen atom without neighbors\n",
      "[11:42:57] WARNING: not removing hydrogen atom without neighbors\n",
      "[11:42:58] WARNING: not removing hydrogen atom without neighbors\n",
      "[11:42:58] WARNING: not removing hydrogen atom without neighbors\n",
      "[11:42:59] WARNING: not removing hydrogen atom without neighbors\n",
      "[11:43:01] WARNING: not removing hydrogen atom without neighbors\n",
      "[11:43:01] WARNING: not removing hydrogen atom without neighbors\n",
      "[11:43:01] WARNING: not removing hydrogen atom without neighbors\n",
      "[11:43:01] WARNING: not removing hydrogen atom without neighbors\n"
     ]
    },
    {
     "name": "stdout",
     "output_type": "stream",
     "text": [
      "By product_number ranking finished\n",
      "min score 6.0\n",
      "max score 6.0\n",
      "\n",
      "Pathway ranking finished. Pathway scores:\n",
      "\n",
      "ranking 1\n",
      "final score 6.0\n",
      "Max reaction enthalpy score 0  x  2  =  0\n",
      "Number of reactions score 1.0  x  4  =  4.0\n",
      "By-product score 1.0  x  2  =  2.0\n",
      "Pathway atom economy score 0.0  x  1  =  0.0\n",
      "Salt score 0  x  0  =  0\n",
      "Reaxys score 0  x  0  =  0\n",
      "Cool score 0  x  0  =  0\n",
      "atom economy 1.0\n",
      "pathway by-product 0\n",
      "intermediate by-product {None: 0}\n",
      "O=C(O)C(O)C(O)C(O)C(O)CO>>O.O=C1OC(CO)C(O)C(O)C1O\n",
      "rule0032_01\n",
      "No_Thermo\n",
      "\n",
      "Time used for pathway ranking: 0.11 minutes\n",
      "\n",
      "Job name: gluconic_lactone_PKS0_BIO1\n",
      "Job type: pathway visualization\n",
      "Job started on: 2025-04-07 11:43:02.169029\n",
      "pygraphviz is NOT installed.\n",
      "Graphviz is NOT installed.\n",
      "A custom node layout will be used for pathway visualization\n",
      "Number of pathways:  1\n",
      "Number of reactions in reaxys:  0\n",
      "Working on creating pages\n",
      "You can adjust multi-processing number to speed up PDF generation\n"
     ]
    },
    {
     "name": "stderr",
     "output_type": "stream",
     "text": [
      "[11:43:02] WARNING: not removing hydrogen atom without neighbors\n",
      "[11:43:04] WARNING: not removing hydrogen atom without neighbors\n",
      "[11:43:04] WARNING: not removing hydrogen atom without neighbors\n",
      "[11:43:04] WARNING: not removing hydrogen atom without neighbors\n",
      "[11:43:04] WARNING: not removing hydrogen atom without neighbors\n",
      "[11:43:05] WARNING: not removing hydrogen atom without neighbors\n"
     ]
    },
    {
     "name": "stdout",
     "output_type": "stream",
     "text": [
      "page done: 1\n",
      "Finished with pages, writing to pdf\n",
      "Time used for pathway visualization: 0.07 minutes\n",
      "\n",
      "A custom node layout was used for pathway visualization\n",
      "For a better layout, please install pygraphviz and Graphviz with the following command:\n",
      "conda install conda-forge::pygraphviz\n",
      "which should install both packages together\n",
      "\n",
      "Pathways found in 1 step/s between the top PKS product O=C(O)[C@H](O)[C@H](O)[C@H](O)[C@H](O)CO and the eventual target product O=C1OC(CO)C(O)C(O)C1O !!!\n"
     ]
    }
   ],
   "execution_count": 6
  }
 ],
 "metadata": {
  "kernelspec": {
   "display_name": "BiosynthPipeline_py310_env",
   "language": "python",
   "name": "biosynthpipeline_py310_env"
  },
  "language_info": {
   "codemirror_mode": {
    "name": "ipython",
    "version": 2
   },
   "file_extension": ".py",
   "mimetype": "text/x-python",
   "name": "python",
   "nbconvert_exporter": "python",
   "pygments_lexer": "ipython2",
   "version": "2.7.6"
  }
 },
 "nbformat": 4,
 "nbformat_minor": 5
}
