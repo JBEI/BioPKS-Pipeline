{
 "cells": [
  {
   "metadata": {},
   "cell_type": "markdown",
   "source": "# BioPKS Pipeline Tutorial",
   "id": "5fab4f055bc714e5"
  },
  {
   "metadata": {},
   "cell_type": "markdown",
   "source": "In this tutorial, we go over and explain many of the settings/ parameters that users can tune in order to run BioPKS Pipeline. ",
   "id": "de281e37f90d868a"
  },
  {
   "metadata": {},
   "cell_type": "code",
   "source": [
    "from biopks_pipeline import biopks_pipeline\n",
    "from DORA_XGB import DORA_XGB\n",
    "import warnings\n",
    "warnings.simplefilter('ignore')\n",
    "\n",
    "import os\n",
    "os.chdir('../../BioPKS-Pipeline/notebooks')\n",
    "print(\"Now working in:\", os.getcwd())"
   ],
   "id": "4530554f4f639ecd",
   "outputs": [],
   "execution_count": null
  },
  {
   "metadata": {},
   "cell_type": "markdown",
   "source": [
    "Users need to specify the following input parameters when attempting to synthesize a molecule *in silico* with BioPKS Pipeline:\n",
    "\n",
    "`pathway sequence`: this can be either of the lists `['pks']` or `['pks', 'bio']` and it determines if only PKSs should be used to synthesize a target molecule, or if post-PKS modifications should be allowed as well. The goal of BioPKS Pipeline is to expand the chemical space accessible by merging PKSs and regular, monofunctional enzymes in biology, so it is likely that using both types of enzymes will result in a higher chance of reaching one's target chemical than using either alone.\n",
    "\n",
    "`target_smiles`: the SMILES string of the desired target chemical. Regardless of whether the input SMILES string contains stereochemical information about a molecule or not, BioPKS Pipeline will automatically convert the input SMILES to its canonical form and remove any chirality. This is because in this work, we have focused only on getting the correct 2D structure of a target molecule rather than its 3D structure. We anticipate future releases of our tool to be able to achieve the correct 3D structure of a target.\n",
    "\n",
    "`target_name`: the name of the input target. This will be used to save BioPKS Pipeline's results in the folder `data/results_logs`."
   ],
   "id": "537fb77cc213b4c7"
  },
  {
   "metadata": {
    "ExecuteTime": {
     "end_time": "2025-04-05T07:36:43.009863Z",
     "start_time": "2025-04-05T07:36:43.000253Z"
    }
   },
   "cell_type": "code",
   "source": [
    "pathway_sequence = ['pks','bio']  # choose between ['pks'] or ['pks','bio']\n",
    "target_smiles = 'C(C1C(C(C(C(=O)O1)O)O)O)O'\n",
    "target_name = 'gluconic_lactone'\n",
    "pks_release_mechanism = 'thiolysis' # choose from 'cyclization' or 'thiolysis'"
   ],
   "id": "84e2702843c1625a",
   "outputs": [],
   "execution_count": 1
  },
  {
   "metadata": {},
   "cell_type": "markdown",
   "source": [
    "In addition to the parameters above, users can also specify additional parameters via a config file. The config file that we will be using for this tutorial is in `notebooks/input_config_file_tutorial_1.json`. Following are the parameters that users can tune within the config file:\n",
    "\n",
    "`pks_starters_filepath`: list of PKS starter units available to RetroTide (default: `../biopks_pipeline/retrotide/data/starters.smi`)\n",
    "\n",
    "`pks_extenders_filepath`: list of PKS extender units available to RetroTide (default: `\"../biopks_pipeline/retrotide/data/extenders.smi\"`)\n",
    "\n",
    "`pks_starters`: list of PKS **starter units** to run BioPKS Pipeline with. This is the list that users can edit to control which starting acyl-CoA derivatives can be used when designing synthesis pathways for small-molecules. In our manuscript, for non-aromatic molecules, we constrained the list of starter units to only malonyl-CoA (\"mal\"), methylmalonyl-CoA (\"mmal\"), methoxymalonyl-CoA (\"mxmal\"), hydroxymalonyl-CoA (\"hmal\"), and allylmalonyl-CoA (\"allylmal\"). This list of starter units can be written as: `[\"mal\", \"mmal\", \"mxmal\", \"hmal\", \"allylmal\"]`. For non-aromatic molecules, however, we allowed all starter units to be used by BioPKS Pipeline. This can be enabled by simply writing \"all\" for this field in `pks_starters`.\n",
    "\n",
    "`pks_extenders`: similar to above, this is the list of PKS **extender units** to run BioPKS Pipeline with. This is the list that users can edit to control which extender acyl-CoA derivatives can be used when designing synthesis pathways for small-molecules. In our manuscript, for non-aromatic molecules, we constrained the list of extender units to only malonyl-CoA (\"mal\"), methylmalonyl-CoA (\"mmal\"), methoxymalonyl-CoA (\"mxmal\"), hydroxymalonyl-CoA (\"hmal\"), and allylmalonyl-CoA (\"allylmal\"). This list of extender units can be written as: `[\"mal\", \"mmal\", \"mxmal\", \"hmal\", \"allylmal\"]`. For non-aromatic molecules, however, we allowed all starter units to be used by BioPKS Pipeline. This can be enabled by simply writing \"all\" for this field in `pks_starters`.\n",
    "\n",
    "`pks_similarity_metric`: chemical similarity metric to use for ranking RetroTide's PKS products. We recommend using `mcs_without_stereo`, which prioritizes the maximum common substructure (MCS) between an intermediate PKS molecule and the final, target product. In performing this comparison, we ignore any stereochemical considerations. Other options include `atompairs` and `atomatompath`. Users are also welcome to add their own chemical similarity metrics of interest in `biopks_pipeline/retrotide/retrotide.py`.\n",
    "\n",
    "`non_pks_similarity_metric`: chemical similarity metric to use for ranking DORAnet's post-PKS products. We also recommend using `mcs_without_stereo` here. This metric enables BioPKS Pipeline to retrieve the most chemically similar post-PKS product with respect to the target chemical in the event that the final target is not reached."
   ],
   "id": "a98d9eaf5f9010c"
  },
  {
   "metadata": {},
   "cell_type": "code",
   "source": [
    "#config_filepath = 'input_config_file_tutorial_1.json'\n",
    "config_filepath = os.path.join('input_config_file_tutorial_1.json')"
   ],
   "id": "233cf32a01bee781",
   "outputs": [],
   "execution_count": null
  },
  {
   "metadata": {},
   "cell_type": "code",
   "source": [
    "post_pks_rxn_model = DORA_XGB.feasibility_classifier(cofactor_positioning = 'add_concat',\n",
    "                                                     model_type = \"spare\")"
   ],
   "id": "fd19206464efbcb3",
   "outputs": [],
   "execution_count": null
  },
  {
   "metadata": {},
   "cell_type": "code",
   "source": [
    "biopks_pipeline_object = biopks_pipeline.biopks_pipeline(\n",
    "                                             pathway_sequence = pathway_sequence,\n",
    "                                             target_smiles = target_smiles,\n",
    "                                             target_name = target_name,\n",
    "                                             feasibility_classifier = post_pks_rxn_model,\n",
    "                                             pks_release_mechanism = pks_release_mechanism,\n",
    "                                             config_filepath = config_filepath)"
   ],
   "id": "fbfddd1196b76848",
   "outputs": [],
   "execution_count": null
  },
  {
   "metadata": {},
   "cell_type": "code",
   "source": [
    "### ----- Start synthesis -----\n",
    "if __name__ == \"__main__\":\n",
    "    biopks_pipeline_object.run_combined_synthesis(max_designs = 4)\n",
    "    #biopks_pipeline_object.save_results_logs()"
   ],
   "id": "d5cfbe7b80925403",
   "outputs": [],
   "execution_count": null
  }
 ],
 "metadata": {
  "kernelspec": {
   "display_name": "BiosynthPipeline_py310_env",
   "language": "python",
   "name": "biosynthpipeline_py310_env"
  },
  "language_info": {
   "codemirror_mode": {
    "name": "ipython",
    "version": 2
   },
   "file_extension": ".py",
   "mimetype": "text/x-python",
   "name": "python",
   "nbconvert_exporter": "python",
   "pygments_lexer": "ipython2",
   "version": "2.7.6"
  }
 },
 "nbformat": 4,
 "nbformat_minor": 5
}
