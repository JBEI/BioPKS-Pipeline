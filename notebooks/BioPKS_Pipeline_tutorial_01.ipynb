{
 "cells": [
  {
   "metadata": {},
   "cell_type": "code",
   "source": [
    "from biopks_pipeline import biopks_pipeline\n",
    "from DORA_XGB import DORA_XGB\n",
    "import os\n",
    "import warnings\n",
    "warnings.simplefilter('ignore')\n",
    "\n",
    "import os\n",
    "os.chdir('../../BioPKS-Pipeline/notebooks')\n",
    "print(\"Now working in:\", os.getcwd())"
   ],
   "id": "4530554f4f639ecd",
   "outputs": [],
   "execution_count": null
  },
  {
   "metadata": {},
   "cell_type": "code",
   "source": [
    "pathway_sequence = ['pks','bio']  # choose between ['pks'] or ['pks','bio']\n",
    "target_smiles = 'C(C1C(C(C(C(=O)O1)O)O)O)O'\n",
    "target_name = 'gluconic_lactone'\n",
    "pks_release_mechanism = 'thiolysis' # choose from 'cyclization' or 'thiolysis'"
   ],
   "id": "84e2702843c1625a",
   "outputs": [],
   "execution_count": null
  },
  {
   "metadata": {},
   "cell_type": "code",
   "source": [
    "#config_filepath = 'input_config_file_tutorial_1.json'\n",
    "config_filepath = os.path.join('input_config_file_tutorial_1.json')"
   ],
   "id": "233cf32a01bee781",
   "outputs": [],
   "execution_count": null
  },
  {
   "metadata": {},
   "cell_type": "code",
   "source": [
    "post_pks_rxn_model = DORA_XGB.feasibility_classifier(cofactor_positioning = 'add_concat',\n",
    "                                                     model_type = \"spare\")"
   ],
   "id": "fd19206464efbcb3",
   "outputs": [],
   "execution_count": null
  },
  {
   "metadata": {},
   "cell_type": "code",
   "source": [
    "biopks_pipeline_object = biopks_pipeline.biopks_pipeline(\n",
    "                                             pathway_sequence = pathway_sequence,\n",
    "                                             target_smiles = target_smiles,\n",
    "                                             target_name = target_name,\n",
    "                                             feasibility_classifier = post_pks_rxn_model,\n",
    "                                             pks_release_mechanism = pks_release_mechanism,\n",
    "                                             config_filepath = config_filepath)"
   ],
   "id": "fbfddd1196b76848",
   "outputs": [],
   "execution_count": null
  },
  {
   "metadata": {},
   "cell_type": "code",
   "source": [
    "### ----- Start synthesis -----\n",
    "if __name__ == \"__main__\":\n",
    "    biopks_pipeline_object.run_combined_synthesis(max_designs = 4)\n",
    "    #biopks_pipeline_object.save_results_logs()"
   ],
   "id": "d5cfbe7b80925403",
   "outputs": [],
   "execution_count": null
  }
 ],
 "metadata": {
  "kernelspec": {
   "display_name": "BiosynthPipeline_py310_env",
   "language": "python",
   "name": "biosynthpipeline_py310_env"
  },
  "language_info": {
   "codemirror_mode": {
    "name": "ipython",
    "version": 2
   },
   "file_extension": ".py",
   "mimetype": "text/x-python",
   "name": "python",
   "nbconvert_exporter": "python",
   "pygments_lexer": "ipython2",
   "version": "2.7.6"
  }
 },
 "nbformat": 4,
 "nbformat_minor": 5
}
